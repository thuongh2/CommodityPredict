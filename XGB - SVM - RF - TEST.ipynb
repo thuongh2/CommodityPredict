{
 "cells": [
  {
   "cell_type": "markdown",
   "metadata": {},
   "source": [
    "# Import thư viện"
   ]
  },
  {
   "cell_type": "code",
   "execution_count": 1,
   "metadata": {},
   "outputs": [],
   "source": [
    "import os\n",
    "import warnings\n",
    "import matplotlib.pyplot as plt\n",
    "import numpy as np\n",
    "import pandas as pd\n",
    "import datetime as dt\n",
    "import math\n",
    "import xgboost as xgb\n",
    "\n",
    "from sklearn.svm import SVR\n",
    "from sklearn.ensemble import RandomForestRegressor\n",
    "from sklearn.preprocessing import MinMaxScaler\n",
    "from sklearn.metrics import mean_squared_error, r2_score\n",
    "# from sklearn.model_selection import GridSearchCV\n",
    "# from sklearn.pipeline import make_pipeline\n",
    "from sklearn.model_selection import train_test_split"
   ]
  },
  {
   "cell_type": "markdown",
   "metadata": {},
   "source": [
    "# Dữ liệu"
   ]
  },
  {
   "cell_type": "code",
   "execution_count": 2,
   "metadata": {},
   "outputs": [
    {
     "data": {
      "text/html": [
       "<div>\n",
       "<style scoped>\n",
       "    .dataframe tbody tr th:only-of-type {\n",
       "        vertical-align: middle;\n",
       "    }\n",
       "\n",
       "    .dataframe tbody tr th {\n",
       "        vertical-align: top;\n",
       "    }\n",
       "\n",
       "    .dataframe thead th {\n",
       "        text-align: right;\n",
       "    }\n",
       "</style>\n",
       "<table border=\"1\" class=\"dataframe\">\n",
       "  <thead>\n",
       "    <tr style=\"text-align: right;\">\n",
       "      <th></th>\n",
       "      <th>date</th>\n",
       "      <th>RON 95-III</th>\n",
       "      <th>RON 92-II</th>\n",
       "    </tr>\n",
       "  </thead>\n",
       "  <tbody>\n",
       "    <tr>\n",
       "      <th>0</th>\n",
       "      <td>8/22/2018</td>\n",
       "      <td>21.17</td>\n",
       "      <td>19.61</td>\n",
       "    </tr>\n",
       "    <tr>\n",
       "      <th>1</th>\n",
       "      <td>8/23/2018</td>\n",
       "      <td>21.17</td>\n",
       "      <td>19.61</td>\n",
       "    </tr>\n",
       "    <tr>\n",
       "      <th>2</th>\n",
       "      <td>8/24/2018</td>\n",
       "      <td>21.17</td>\n",
       "      <td>19.61</td>\n",
       "    </tr>\n",
       "    <tr>\n",
       "      <th>3</th>\n",
       "      <td>8/25/2018</td>\n",
       "      <td>21.17</td>\n",
       "      <td>19.61</td>\n",
       "    </tr>\n",
       "    <tr>\n",
       "      <th>4</th>\n",
       "      <td>8/26/2018</td>\n",
       "      <td>21.17</td>\n",
       "      <td>19.61</td>\n",
       "    </tr>\n",
       "  </tbody>\n",
       "</table>\n",
       "</div>"
      ],
      "text/plain": [
       "        date  RON 95-III  RON 92-II\n",
       "0  8/22/2018       21.17      19.61\n",
       "1  8/23/2018       21.17      19.61\n",
       "2  8/24/2018       21.17      19.61\n",
       "3  8/25/2018       21.17      19.61\n",
       "4  8/26/2018       21.17      19.61"
      ]
     },
     "execution_count": 2,
     "metadata": {},
     "output_type": "execute_result"
    }
   ],
   "source": [
    "#Đọc dữ liệu vào dataframe\n",
    "df = pd.read_csv(\"./gasoline_prices.csv\")\n",
    "df.head()"
   ]
  },
  {
   "cell_type": "code",
   "execution_count": 3,
   "metadata": {},
   "outputs": [
    {
     "data": {
      "text/html": [
       "<div>\n",
       "<style scoped>\n",
       "    .dataframe tbody tr th:only-of-type {\n",
       "        vertical-align: middle;\n",
       "    }\n",
       "\n",
       "    .dataframe tbody tr th {\n",
       "        vertical-align: top;\n",
       "    }\n",
       "\n",
       "    .dataframe thead th {\n",
       "        text-align: right;\n",
       "    }\n",
       "</style>\n",
       "<table border=\"1\" class=\"dataframe\">\n",
       "  <thead>\n",
       "    <tr style=\"text-align: right;\">\n",
       "      <th></th>\n",
       "      <th>RON 95-III</th>\n",
       "    </tr>\n",
       "    <tr>\n",
       "      <th>date</th>\n",
       "      <th></th>\n",
       "    </tr>\n",
       "  </thead>\n",
       "  <tbody>\n",
       "    <tr>\n",
       "      <th>2018-08-22</th>\n",
       "      <td>21.17</td>\n",
       "    </tr>\n",
       "    <tr>\n",
       "      <th>2018-08-23</th>\n",
       "      <td>21.17</td>\n",
       "    </tr>\n",
       "    <tr>\n",
       "      <th>2018-08-24</th>\n",
       "      <td>21.17</td>\n",
       "    </tr>\n",
       "    <tr>\n",
       "      <th>2018-08-25</th>\n",
       "      <td>21.17</td>\n",
       "    </tr>\n",
       "    <tr>\n",
       "      <th>2018-08-26</th>\n",
       "      <td>21.17</td>\n",
       "    </tr>\n",
       "  </tbody>\n",
       "</table>\n",
       "</div>"
      ],
      "text/plain": [
       "            RON 95-III\n",
       "date                  \n",
       "2018-08-22       21.17\n",
       "2018-08-23       21.17\n",
       "2018-08-24       21.17\n",
       "2018-08-25       21.17\n",
       "2018-08-26       21.17"
      ]
     },
     "execution_count": 3,
     "metadata": {},
     "output_type": "execute_result"
    }
   ],
   "source": [
    "#Chuyển cột date trong df thành đối tượng datetime\n",
    "df['date'] = pd.to_datetime(df['date'])\n",
    "\n",
    "#Tạo df_gasolinePrices từ df với 'date', 'RON 95-III' và đặt 'date' làm index.\n",
    "df_gasolinePrices = df.loc[:, ['date', 'RON 95-III']]\n",
    "df_gasolinePrices.set_index('date', inplace=True)\n",
    "df_gasolinePrices.head()"
   ]
  },
  {
   "cell_type": "markdown",
   "metadata": {},
   "source": [
    "### Chia dữ liệu thành tập train và test"
   ]
  },
  {
   "cell_type": "code",
   "execution_count": 4,
   "metadata": {},
   "outputs": [
    {
     "name": "stdout",
     "output_type": "stream",
     "text": [
      "Train: 1527\n",
      "Test: 382\n"
     ]
    }
   ],
   "source": [
    "# Số lượng điểm dữ liệu cho tập train và test\n",
    "train_size = 0.8\n",
    "test_size = (1 - train_size)\n",
    "\n",
    "# Tính toán số lượng dòng cho tập train và test\n",
    "train_split = int(len(df_gasolinePrices) * train_size)\n",
    "test_split = int(len(df_gasolinePrices) * (train_size + test_size))\n",
    "\n",
    "train = df_gasolinePrices[:train_split]\n",
    "test = df_gasolinePrices[train_split:test_split]\n",
    "\n",
    "# In ra kích thước của từng tập\n",
    "print(\"Train:\", len(train))\n",
    "print(\"Test:\", len(test))"
   ]
  },
  {
   "cell_type": "code",
   "execution_count": 5,
   "metadata": {},
   "outputs": [
    {
     "data": {
      "image/png": "[encoded data removed]",
      "text/plain": [
       "<Figure size 1200x600 with 1 Axes>"
      ]
     },
     "metadata": {},
     "output_type": "display_data"
    }
   ],
   "source": [
    "import matplotlib.pyplot as plt\n",
    "\n",
    "# Vẽ đường RMSE cho tập train và test\n",
    "plt.figure(figsize=(12, 6))\n",
    "\n",
    "# Vẽ đường ground truth cho tập train\n",
    "plt.plot(train['RON 95-III'], label='Train', color='blue')\n",
    "\n",
    "# Vẽ đường ground truth cho tập test\n",
    "plt.plot(test['RON 95-III'], label='Test', color='orange')\n",
    "\n",
    "# Đặt tiêu đề và chú thích\n",
    "plt.title('Train set and Test set')\n",
    "plt.xlabel('Time')\n",
    "plt.ylabel('Gasoline Price RON 95-III')\n",
    "plt.legend()\n",
    "plt.grid(True)\n",
    "\n",
    "# Hiển thị biểu đồ\n",
    "plt.show()\n"
   ]
  },
  {
   "cell_type": "code",
   "execution_count": 6,
   "metadata": {
    "scrolled": true
   },
   "outputs": [
    {
     "name": "stdout",
     "output_type": "stream",
     "text": [
      "Training data shape:  (1527, 1)\n",
      "Test data shape:  (382, 1)\n"
     ]
    }
   ],
   "source": [
    "print('Training data shape: ', train.shape)\n",
    "print('Test data shape: ', test.shape)"
   ]
  },
  {
   "cell_type": "markdown",
   "metadata": {},
   "source": [
    "### Chuẩn hóa dữ liệu"
   ]
  },
  {
   "cell_type": "code",
   "execution_count": 7,
   "metadata": {},
   "outputs": [],
   "source": [
    "scaler = MinMaxScaler()\n",
    "\n",
    "train = scaler.fit_transform(train)\n",
    "test = scaler.transform(test)"
   ]
  },
  {
   "cell_type": "code",
   "execution_count": 8,
   "metadata": {},
   "outputs": [
    {
     "name": "stdout",
     "output_type": "stream",
     "text": [
      "(1497, 31)\n",
      "(352, 31)\n"
     ]
    }
   ],
   "source": [
    "#Xác định số bước thời gian (timesteps) cho mô hình dự đoán chuỗi thời gian\n",
    "timesteps = 31\n",
    "\n",
    "train_data_timesteps=np.array([[j for j in train[i:i+timesteps]] for i in range(0,len(train)-timesteps+1)])[:,:,0]\n",
    "test_data_timesteps = np.array([[j for j in test[i:i+timesteps]] for i in range(0, len(test)-timesteps+1)])[:,:,0]\n",
    "\n",
    "print(train_data_timesteps.shape)\n",
    "print(test_data_timesteps.shape)"
   ]
  },
  {
   "cell_type": "code",
   "execution_count": 9,
   "metadata": {},
   "outputs": [
    {
     "name": "stdout",
     "output_type": "stream",
     "text": [
      "(1497, 30) (1497, 1)\n",
      "(352, 30) (352, 1)\n"
     ]
    }
   ],
   "source": [
    "#Chia mảng data_timesteps thành hai phần: x, y\n",
    "X_train, y_train = train_data_timesteps[:,:timesteps-1],train_data_timesteps[:,[timesteps-1]]\n",
    "X_test, y_test = test_data_timesteps[:,:timesteps-1],test_data_timesteps[:,[timesteps-1]]\n",
    "\n",
    "print(X_train.shape, y_train.shape)\n",
    "print(X_test.shape, y_test.shape)"
   ]
  },
  {
   "cell_type": "markdown",
   "metadata": {},
   "source": [
    "# XGboost"
   ]
  },
  {
   "cell_type": "code",
   "execution_count": 10,
   "metadata": {},
   "outputs": [],
   "source": [
    "X_train_xgb, y_train_xgb = X_train, y_train\n",
    "X_test_xgb, y_test_xgb = X_test, y_test"
   ]
  },
  {
   "cell_type": "markdown",
   "metadata": {},
   "source": [
    "### Xây dựng mô hình XGboost"
   ]
  },
  {
   "cell_type": "code",
   "execution_count": 11,
   "metadata": {},
   "outputs": [
    {
     "data": {
      "text/html": [
       "<style>#sk-container-id-1 {color: black;background-color: white;}#sk-container-id-1 pre{padding: 0;}#sk-container-id-1 div.sk-toggleable {background-color: white;}#sk-container-id-1 label.sk-toggleable__label {cursor: pointer;display: block;width: 100%;margin-bottom: 0;padding: 0.3em;box-sizing: border-box;text-align: center;}#sk-container-id-1 label.sk-toggleable__label-arrow:before {content: \"▸\";float: left;margin-right: 0.25em;color: #696969;}#sk-container-id-1 label.sk-toggleable__label-arrow:hover:before {color: black;}#sk-container-id-1 div.sk-estimator:hover label.sk-toggleable__label-arrow:before {color: black;}#sk-container-id-1 div.sk-toggleable__content {max-height: 0;max-width: 0;overflow: hidden;text-align: left;background-color: #f0f8ff;}#sk-container-id-1 div.sk-toggleable__content pre {margin: 0.2em;color: black;border-radius: 0.25em;background-color: #f0f8ff;}#sk-container-id-1 input.sk-toggleable__control:checked~div.sk-toggleable__content {max-height: 200px;max-width: 100%;overflow: auto;}#sk-container-id-1 input.sk-toggleable__control:checked~label.sk-toggleable__label-arrow:before {content: \"▾\";}#sk-container-id-1 div.sk-estimator input.sk-toggleable__control:checked~label.sk-toggleable__label {background-color: #d4ebff;}#sk-container-id-1 div.sk-label input.sk-toggleable__control:checked~label.sk-toggleable__label {background-color: #d4ebff;}#sk-container-id-1 input.sk-hidden--visually {border: 0;clip: rect(1px 1px 1px 1px);clip: rect(1px, 1px, 1px, 1px);height: 1px;margin: -1px;overflow: hidden;padding: 0;position: absolute;width: 1px;}#sk-container-id-1 div.sk-estimator {font-family: monospace;background-color: #f0f8ff;border: 1px dotted black;border-radius: 0.25em;box-sizing: border-box;margin-bottom: 0.5em;}#sk-container-id-1 div.sk-estimator:hover {background-color: #d4ebff;}#sk-container-id-1 div.sk-parallel-item::after {content: \"\";width: 100%;border-bottom: 1px solid gray;flex-grow: 1;}#sk-container-id-1 div.sk-label:hover label.sk-toggleable__label {background-color: #d4ebff;}#sk-container-id-1 div.sk-serial::before {content: \"\";position: absolute;border-left: 1px solid gray;box-sizing: border-box;top: 0;bottom: 0;left: 50%;z-index: 0;}#sk-container-id-1 div.sk-serial {display: flex;flex-direction: column;align-items: center;background-color: white;padding-right: 0.2em;padding-left: 0.2em;position: relative;}#sk-container-id-1 div.sk-item {position: relative;z-index: 1;}#sk-container-id-1 div.sk-parallel {display: flex;align-items: stretch;justify-content: center;background-color: white;position: relative;}#sk-container-id-1 div.sk-item::before, #sk-container-id-1 div.sk-parallel-item::before {content: \"\";position: absolute;border-left: 1px solid gray;box-sizing: border-box;top: 0;bottom: 0;left: 50%;z-index: -1;}#sk-container-id-1 div.sk-parallel-item {display: flex;flex-direction: column;z-index: 1;position: relative;background-color: white;}#sk-container-id-1 div.sk-parallel-item:first-child::after {align-self: flex-end;width: 50%;}#sk-container-id-1 div.sk-parallel-item:last-child::after {align-self: flex-start;width: 50%;}#sk-container-id-1 div.sk-parallel-item:only-child::after {width: 0;}#sk-container-id-1 div.sk-dashed-wrapped {border: 1px dashed gray;margin: 0 0.4em 0.5em 0.4em;box-sizing: border-box;padding-bottom: 0.4em;background-color: white;}#sk-container-id-1 div.sk-label label {font-family: monospace;font-weight: bold;display: inline-block;line-height: 1.2em;}#sk-container-id-1 div.sk-label-container {text-align: center;}#sk-container-id-1 div.sk-container {/* jupyter's `normalize.less` sets `[hidden] { display: none; }` but bootstrap.min.css set `[hidden] { display: none !important; }` so we also need the `!important` here to be able to override the default hidden behavior on the sphinx rendered scikit-learn.org. See: https://github.com/scikit-learn/scikit-learn/issues/21755 */display: inline-block !important;position: relative;}#sk-container-id-1 div.sk-text-repr-fallback {display: none;}</style><div id=\"sk-container-id-1\" class=\"sk-top-container\"><div class=\"sk-text-repr-fallback\"><pre>XGBRegressor(base_score=None, booster=None, callbacks=None,\n",
       "             colsample_bylevel=None, colsample_bynode=None,\n",
       "             colsample_bytree=None, device=None, early_stopping_rounds=None,\n",
       "             enable_categorical=False, eval_metric=None, feature_types=None,\n",
       "             gamma=None, grow_policy=None, importance_type=None,\n",
       "             interaction_constraints=None, learning_rate=0.1, max_bin=None,\n",
       "             max_cat_threshold=None, max_cat_to_onehot=None,\n",
       "             max_delta_step=None, max_depth=4, max_leaves=None,\n",
       "             min_child_weight=None, missing=nan, monotone_constraints=None,\n",
       "             multi_strategy=None, n_estimators=40, n_jobs=None,\n",
       "             num_parallel_tree=None, random_state=None, ...)</pre><b>In a Jupyter environment, please rerun this cell to show the HTML representation or trust the notebook. <br />On GitHub, the HTML representation is unable to render, please try loading this page with nbviewer.org.</b></div><div class=\"sk-container\" hidden><div class=\"sk-item\"><div class=\"sk-estimator sk-toggleable\"><input class=\"sk-toggleable__control sk-hidden--visually\" id=\"sk-estimator-id-1\" type=\"checkbox\" checked><label for=\"sk-estimator-id-1\" class=\"sk-toggleable__label sk-toggleable__label-arrow\">XGBRegressor</label><div class=\"sk-toggleable__content\"><pre>XGBRegressor(base_score=None, booster=None, callbacks=None,\n",
       "             colsample_bylevel=None, colsample_bynode=None,\n",
       "             colsample_bytree=None, device=None, early_stopping_rounds=None,\n",
       "             enable_categorical=False, eval_metric=None, feature_types=None,\n",
       "             gamma=None, grow_policy=None, importance_type=None,\n",
       "             interaction_constraints=None, learning_rate=0.1, max_bin=None,\n",
       "             max_cat_threshold=None, max_cat_to_onehot=None,\n",
       "             max_delta_step=None, max_depth=4, max_leaves=None,\n",
       "             min_child_weight=None, missing=nan, monotone_constraints=None,\n",
       "             multi_strategy=None, n_estimators=40, n_jobs=None,\n",
       "             num_parallel_tree=None, random_state=None, ...)</pre></div></div></div></div></div>"
      ],
      "text/plain": [
       "XGBRegressor(base_score=None, booster=None, callbacks=None,\n",
       "             colsample_bylevel=None, colsample_bynode=None,\n",
       "             colsample_bytree=None, device=None, early_stopping_rounds=None,\n",
       "             enable_categorical=False, eval_metric=None, feature_types=None,\n",
       "             gamma=None, grow_policy=None, importance_type=None,\n",
       "             interaction_constraints=None, learning_rate=0.1, max_bin=None,\n",
       "             max_cat_threshold=None, max_cat_to_onehot=None,\n",
       "             max_delta_step=None, max_depth=4, max_leaves=None,\n",
       "             min_child_weight=None, missing=nan, monotone_constraints=None,\n",
       "             multi_strategy=None, n_estimators=40, n_jobs=None,\n",
       "             num_parallel_tree=None, random_state=None, ...)"
      ]
     },
     "execution_count": 11,
     "metadata": {},
     "output_type": "execute_result"
    }
   ],
   "source": [
    "model_xgb = xgb.XGBRegressor(objective='reg:squarederror', \n",
    "                             max_depth=4, \n",
    "                             learning_rate=0.1, \n",
    "                             n_estimators=40, \n",
    "                            )\n",
    "model_xgb.fit(X_train_xgb, y_train_xgb)"
   ]
  },
  {
   "cell_type": "markdown",
   "metadata": {},
   "source": [
    "### Dự đoán trên tập train (XGB)"
   ]
  },
  {
   "cell_type": "code",
   "execution_count": 12,
   "metadata": {},
   "outputs": [],
   "source": [
    "y_train_pred_xgb = model_xgb.predict(X_train_xgb)\n",
    "y_train_pred_xgb = scaler.inverse_transform(y_train_pred_xgb.reshape(-1, 1))\n",
    "y_train_xgb = scaler.inverse_transform(y_train_xgb)"
   ]
  },
  {
   "cell_type": "code",
   "execution_count": 13,
   "metadata": {},
   "outputs": [
    {
     "name": "stdout",
     "output_type": "stream",
     "text": [
      "RMSE (XGB):  0.1979426417815109\n",
      "R-squared (XGB):  0.998029141496728\n"
     ]
    }
   ],
   "source": [
    "rmse_train_xgb = np.sqrt(mean_squared_error(y_train_xgb, y_train_pred_xgb))\n",
    "r2_train_xgb = r2_score(y_train_xgb, y_train_pred_xgb)\n",
    "\n",
    "print(\"RMSE (XGB): \", rmse_train_xgb)\n",
    "print(\"R-squared (XGB): \", r2_train_xgb)"
   ]
  },
  {
   "cell_type": "markdown",
   "metadata": {},
   "source": [
    "### Dự đoán trên tập test (XGB)"
   ]
  },
  {
   "cell_type": "code",
   "execution_count": 14,
   "metadata": {},
   "outputs": [],
   "source": [
    "y_test_pred_xgb = model_xgb.predict(X_test_xgb)\n",
    "y_test_pred_xgb = scaler.inverse_transform(y_test_pred_xgb.reshape(-1, 1))\n",
    "y_test_xgb = scaler.inverse_transform(y_test_xgb)"
   ]
  },
  {
   "cell_type": "code",
   "execution_count": 15,
   "metadata": {},
   "outputs": [
    {
     "name": "stdout",
     "output_type": "stream",
     "text": [
      "RMSE (XGB):  0.3281127788222113\n",
      "R-squared (XGB):  0.931965826771085\n"
     ]
    }
   ],
   "source": [
    "# Evaluate the model\n",
    "rmse_test_xgb = np.sqrt(mean_squared_error(y_test_xgb, y_test_pred_xgb))\n",
    "r2_test_xgb = r2_score(y_test_xgb, y_test_pred_xgb)\n",
    "\n",
    "print(\"RMSE (XGB): \", rmse_test_xgb)\n",
    "print(\"R-squared (XGB): \", r2_test_xgb)"
   ]
  },
  {
   "cell_type": "markdown",
   "metadata": {},
   "source": [
    "## Dự đoán giá tương lai"
   ]
  },
  {
   "cell_type": "code",
   "execution_count": 16,
   "metadata": {},
   "outputs": [],
   "source": [
    "days = 30\n",
    "df_gasolinePrices_pre = df_gasolinePrices.copy()\n",
    "gasolinePrices_scaled = scaler.transform(df_gasolinePrices_pre)\n",
    "\n",
    "# Lấy dữ liệu cuối cùng từ tập dữ liệu\n",
    "last_data = gasolinePrices_scaled[-timesteps:]\n",
    "last_data = last_data.reshape(1, -1)[:, -(timesteps-1):]\n",
    "\n",
    "predicted_prices_xgb = []\n",
    "for day in range(days):\n",
    "    next_prediction = model_xgb.predict(last_data)\n",
    "    last_data = np.append(last_data, next_prediction).reshape(1, -1)[:, 1:]\n",
    "    predicted_price = scaler.inverse_transform(next_prediction.reshape(-1, 1))\n",
    "    predicted_prices_xgb.append(predicted_price[0, 0])\n",
    "    \n",
    "last_date = df_gasolinePrices_pre.index[-1]\n",
    "future_dates = pd.date_range(start=last_date + pd.DateOffset(days=1), periods=days, freq='D')\n",
    "\n",
    "predicted_df_xgb = pd.DataFrame(index=future_dates, columns=['RON 95-III'])\n",
    "\n",
    "for day, price in enumerate(predicted_prices_xgb, start=1):\n",
    "    predicted_df_xgb.loc[last_date + pd.DateOffset(days=day)] = price\n",
    "\n",
    "df_gasolinePrices_pre = pd.concat([df_gasolinePrices_pre, predicted_df_xgb], axis=0)"
   ]
  },
  {
   "cell_type": "code",
   "execution_count": 17,
   "metadata": {},
   "outputs": [
    {
     "data": {
      "image/png": "[encoded data removed]",
      "text/plain": [
       "<Figure size 1200x600 with 1 Axes>"
      ]
     },
     "metadata": {},
     "output_type": "display_data"
    }
   ],
   "source": [
    "plt.figure(figsize=(12, 6))\n",
    "\n",
    "plt.plot(df_gasolinePrices_pre.index, df_gasolinePrices_pre['RON 95-III'], label='Ground Truth', color='blue')\n",
    "plt.plot(predicted_df_xgb.index, predicted_df_xgb['RON 95-III'], label='Predicted', color='orange')\n",
    "\n",
    "plt.title('Ground Truth vs Predicted Gasoline Prices')\n",
    "plt.xlabel('Time')\n",
    "plt.ylabel('Gasoline Price RON 95-III')\n",
    "plt.legend()\n",
    "plt.grid(True)\n",
    "\n",
    "# Hiển thị biểu đồ\n",
    "plt.show()"
   ]
  },
  {
   "cell_type": "code",
   "execution_count": null,
   "metadata": {},
   "outputs": [],
   "source": []
  }
 ],
 "metadata": {
  "kernelspec": {
   "display_name": "Python 3 (ipykernel)",
   "language": "python",
   "name": "python3"
  },
  "language_info": {
   "codemirror_mode": {
    "name": "ipython",
    "version": 3
   },
   "file_extension": ".py",
   "mimetype": "text/x-python",
   "name": "python",
   "nbconvert_exporter": "python",
   "pygments_lexer": "ipython3",
   "version": "3.11.5"
  }
 },
 "nbformat": 4,
 "nbformat_minor": 2
}
