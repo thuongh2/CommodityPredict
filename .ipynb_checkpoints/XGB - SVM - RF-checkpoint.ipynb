{
 "cells": [
  {
   "cell_type": "markdown",
   "metadata": {},
   "source": [
    "# Import thư viện"
   ]
  },
  {
   "cell_type": "code",
   "execution_count": 1,
   "metadata": {},
   "outputs": [],
   "source": [
    "import os\n",
    "import warnings\n",
    "import matplotlib.pyplot as plt\n",
    "import numpy as np\n",
    "import pandas as pd\n",
    "import datetime as dt\n",
    "import math\n",
    "import xgboost as xgb\n",
    "\n",
    "from sklearn.svm import SVR\n",
    "from sklearn.ensemble import RandomForestRegressor\n",
    "from sklearn.preprocessing import MinMaxScaler\n",
    "from sklearn.metrics import mean_squared_error, r2_score\n",
    "# from sklearn.model_selection import GridSearchCV\n",
    "# from sklearn.pipeline import make_pipeline\n",
    "from sklearn.model_selection import train_test_split"
   ]
  },
  {
   "cell_type": "markdown",
   "metadata": {},
   "source": [
    "# Dữ liệu"
   ]
  },
  {
   "cell_type": "code",
   "execution_count": 2,
   "metadata": {},
   "outputs": [
    {
     "data": {
      "text/html": [
       "<div>\n",
       "<style scoped>\n",
       "    .dataframe tbody tr th:only-of-type {\n",
       "        vertical-align: middle;\n",
       "    }\n",
       "\n",
       "    .dataframe tbody tr th {\n",
       "        vertical-align: top;\n",
       "    }\n",
       "\n",
       "    .dataframe thead th {\n",
       "        text-align: right;\n",
       "    }\n",
       "</style>\n",
       "<table border=\"1\" class=\"dataframe\">\n",
       "  <thead>\n",
       "    <tr style=\"text-align: right;\">\n",
       "      <th></th>\n",
       "      <th>date</th>\n",
       "      <th>RON 95-III</th>\n",
       "      <th>RON 92-II</th>\n",
       "    </tr>\n",
       "  </thead>\n",
       "  <tbody>\n",
       "    <tr>\n",
       "      <th>0</th>\n",
       "      <td>8/22/2018</td>\n",
       "      <td>21.17</td>\n",
       "      <td>19.61</td>\n",
       "    </tr>\n",
       "    <tr>\n",
       "      <th>1</th>\n",
       "      <td>8/23/2018</td>\n",
       "      <td>21.17</td>\n",
       "      <td>19.61</td>\n",
       "    </tr>\n",
       "    <tr>\n",
       "      <th>2</th>\n",
       "      <td>8/24/2018</td>\n",
       "      <td>21.17</td>\n",
       "      <td>19.61</td>\n",
       "    </tr>\n",
       "    <tr>\n",
       "      <th>3</th>\n",
       "      <td>8/25/2018</td>\n",
       "      <td>21.17</td>\n",
       "      <td>19.61</td>\n",
       "    </tr>\n",
       "    <tr>\n",
       "      <th>4</th>\n",
       "      <td>8/26/2018</td>\n",
       "      <td>21.17</td>\n",
       "      <td>19.61</td>\n",
       "    </tr>\n",
       "  </tbody>\n",
       "</table>\n",
       "</div>"
      ],
      "text/plain": [
       "        date  RON 95-III  RON 92-II\n",
       "0  8/22/2018       21.17      19.61\n",
       "1  8/23/2018       21.17      19.61\n",
       "2  8/24/2018       21.17      19.61\n",
       "3  8/25/2018       21.17      19.61\n",
       "4  8/26/2018       21.17      19.61"
      ]
     },
     "execution_count": 2,
     "metadata": {},
     "output_type": "execute_result"
    }
   ],
   "source": [
    "#Đọc dữ liệu vào dataframe\n",
    "df = pd.read_csv(\"./gasoline_prices.csv\")\n",
    "df.head()"
   ]
  },
  {
   "cell_type": "code",
   "execution_count": 3,
   "metadata": {},
   "outputs": [
    {
     "data": {
      "text/html": [
       "<div>\n",
       "<style scoped>\n",
       "    .dataframe tbody tr th:only-of-type {\n",
       "        vertical-align: middle;\n",
       "    }\n",
       "\n",
       "    .dataframe tbody tr th {\n",
       "        vertical-align: top;\n",
       "    }\n",
       "\n",
       "    .dataframe thead th {\n",
       "        text-align: right;\n",
       "    }\n",
       "</style>\n",
       "<table border=\"1\" class=\"dataframe\">\n",
       "  <thead>\n",
       "    <tr style=\"text-align: right;\">\n",
       "      <th></th>\n",
       "      <th>RON 95-III</th>\n",
       "    </tr>\n",
       "    <tr>\n",
       "      <th>date</th>\n",
       "      <th></th>\n",
       "    </tr>\n",
       "  </thead>\n",
       "  <tbody>\n",
       "    <tr>\n",
       "      <th>2018-08-22</th>\n",
       "      <td>21.17</td>\n",
       "    </tr>\n",
       "    <tr>\n",
       "      <th>2018-08-27</th>\n",
       "      <td>21.17</td>\n",
       "    </tr>\n",
       "    <tr>\n",
       "      <th>2018-09-01</th>\n",
       "      <td>21.17</td>\n",
       "    </tr>\n",
       "    <tr>\n",
       "      <th>2018-09-06</th>\n",
       "      <td>21.47</td>\n",
       "    </tr>\n",
       "    <tr>\n",
       "      <th>2018-09-11</th>\n",
       "      <td>21.47</td>\n",
       "    </tr>\n",
       "  </tbody>\n",
       "</table>\n",
       "</div>"
      ],
      "text/plain": [
       "            RON 95-III\n",
       "date                  \n",
       "2018-08-22       21.17\n",
       "2018-08-27       21.17\n",
       "2018-09-01       21.17\n",
       "2018-09-06       21.47\n",
       "2018-09-11       21.47"
      ]
     },
     "execution_count": 3,
     "metadata": {},
     "output_type": "execute_result"
    }
   ],
   "source": [
    "#Chuyển cột date trong df thành đối tượng datetime\n",
    "df['date'] = pd.to_datetime(df['date'])\n",
    "\n",
    "#Tạo df_gasolinePrices từ df với 'date', 'RON 95-III' và đặt 'date' làm index.\n",
    "df_gasolinePrices = df.loc[::5, ['date', 'RON 95-III']]\n",
    "df_gasolinePrices.set_index('date', inplace=True)\n",
    "df_gasolinePrices.head()"
   ]
  },
  {
   "cell_type": "markdown",
   "metadata": {},
   "source": [
    "### Chia dữ liệu thành tập train và test"
   ]
  },
  {
   "cell_type": "code",
   "execution_count": 4,
   "metadata": {},
   "outputs": [
    {
     "name": "stdout",
     "output_type": "stream",
     "text": [
      "Train: 305\n",
      "Test: 77\n"
     ]
    }
   ],
   "source": [
    "# Số lượng điểm dữ liệu cho tập train và test\n",
    "train_size = 0.8\n",
    "test_size = (1 - train_size)\n",
    "\n",
    "# Tính toán số lượng dòng cho tập train và test\n",
    "train_split = int(len(df_gasolinePrices) * train_size)\n",
    "test_split = int(len(df_gasolinePrices) * (train_size + test_size))\n",
    "\n",
    "train = df_gasolinePrices[:train_split]\n",
    "test = df_gasolinePrices[train_split:test_split]\n",
    "\n",
    "# In ra kích thước của từng tập\n",
    "print(\"Train:\", len(train))\n",
    "print(\"Test:\", len(test))"
   ]
  },
  {
   "cell_type": "code",
   "execution_count": 5,
   "metadata": {},
   "outputs": [
    {
     "data": {
      "image/png": "[encoded data removed]",
      "text/plain": [
       "<Figure size 1200x600 with 1 Axes>"
      ]
     },
     "metadata": {},
     "output_type": "display_data"
    }
   ],
   "source": [
    "import matplotlib.pyplot as plt\n",
    "\n",
    "# Vẽ đường RMSE cho tập train và test\n",
    "plt.figure(figsize=(12, 6))\n",
    "\n",
    "# Vẽ đường ground truth cho tập train\n",
    "plt.plot(train['RON 95-III'], label='Train', color='blue')\n",
    "\n",
    "# Vẽ đường ground truth cho tập test\n",
    "plt.plot(test['RON 95-III'], label='Test', color='orange')\n",
    "\n",
    "# Đặt tiêu đề và chú thích\n",
    "plt.title('Train set and Test set')\n",
    "plt.xlabel('Time')\n",
    "plt.ylabel('Gasoline Price RON 95-III')\n",
    "plt.legend()\n",
    "plt.grid(True)\n",
    "\n",
    "# Hiển thị biểu đồ\n",
    "plt.show()\n"
   ]
  },
  {
   "cell_type": "code",
   "execution_count": 6,
   "metadata": {},
   "outputs": [
    {
     "name": "stdout",
     "output_type": "stream",
     "text": [
      "Training data shape:  (305, 1)\n",
      "Test data shape:  (77, 1)\n"
     ]
    }
   ],
   "source": [
    "print('Training data shape: ', train.shape)\n",
    "print('Test data shape: ', test.shape)"
   ]
  },
  {
   "cell_type": "markdown",
   "metadata": {},
   "source": [
    "### Chuẩn hóa dữ liệu"
   ]
  },
  {
   "cell_type": "code",
   "execution_count": 7,
   "metadata": {},
   "outputs": [],
   "source": [
    "scaler = MinMaxScaler()\n",
    "\n",
    "\n",
    "train_scaled = scaler.fit_transform(train)\n",
    "test_scaled = scaler.transform(test)"
   ]
  },
  {
   "cell_type": "code",
   "execution_count": 8,
   "metadata": {},
   "outputs": [
    {
     "name": "stdout",
     "output_type": "stream",
     "text": [
      "X_train.shape:  (293, 12)\n",
      "y_train.shape:  (293, 1)\n",
      "X_test.shape:  (65, 12)\n",
      "y_test.shape:  (65, 1)\n"
     ]
    }
   ],
   "source": [
    "# Create input dataset\n",
    "# Th input shape should be [samples, time steps, features]\n",
    "def create_dataset (X, look_back = 10):\n",
    "    Xs, ys = [], []\n",
    "    \n",
    "    for i in range(len(X)-look_back):\n",
    "        v = X[i:i+look_back]\n",
    "        Xs.append(v)\n",
    "        ys.append(X[i+look_back])\n",
    "\n",
    "    return np.squeeze(np.array(Xs), axis=-1), np.array(ys),\n",
    "# Gia 12 thang\n",
    "look_back = 12\n",
    "X_train, y_train = create_dataset(train_scaled, look_back)\n",
    "X_test, y_test = create_dataset(test_scaled, look_back)\n",
    "\n",
    "print('X_train.shape: ', X_train.shape)\n",
    "print('y_train.shape: ', y_train.shape)\n",
    "print('X_test.shape: ', X_test.shape) \n",
    "print('y_test.shape: ', y_test.shape)"
   ]
  },
  {
   "cell_type": "markdown",
   "metadata": {},
   "source": [
    "# XGboost"
   ]
  },
  {
   "cell_type": "code",
   "execution_count": 9,
   "metadata": {},
   "outputs": [],
   "source": [
    "X_train_xgb, y_train_xgb = X_train, y_train\n",
    "X_test_xgb, y_test_xgb = X_test, y_test"
   ]
  },
  {
   "cell_type": "markdown",
   "metadata": {},
   "source": [
    "### Xây dựng mô hình XGboost"
   ]
  },
  {
   "cell_type": "code",
   "execution_count": 10,
   "metadata": {},
   "outputs": [
    {
     "data": {
      "text/html": [
       "<style>#sk-container-id-1 {color: black;background-color: white;}#sk-container-id-1 pre{padding: 0;}#sk-container-id-1 div.sk-toggleable {background-color: white;}#sk-container-id-1 label.sk-toggleable__label {cursor: pointer;display: block;width: 100%;margin-bottom: 0;padding: 0.3em;box-sizing: border-box;text-align: center;}#sk-container-id-1 label.sk-toggleable__label-arrow:before {content: \"▸\";float: left;margin-right: 0.25em;color: #696969;}#sk-container-id-1 label.sk-toggleable__label-arrow:hover:before {color: black;}#sk-container-id-1 div.sk-estimator:hover label.sk-toggleable__label-arrow:before {color: black;}#sk-container-id-1 div.sk-toggleable__content {max-height: 0;max-width: 0;overflow: hidden;text-align: left;background-color: #f0f8ff;}#sk-container-id-1 div.sk-toggleable__content pre {margin: 0.2em;color: black;border-radius: 0.25em;background-color: #f0f8ff;}#sk-container-id-1 input.sk-toggleable__control:checked~div.sk-toggleable__content {max-height: 200px;max-width: 100%;overflow: auto;}#sk-container-id-1 input.sk-toggleable__control:checked~label.sk-toggleable__label-arrow:before {content: \"▾\";}#sk-container-id-1 div.sk-estimator input.sk-toggleable__control:checked~label.sk-toggleable__label {background-color: #d4ebff;}#sk-container-id-1 div.sk-label input.sk-toggleable__control:checked~label.sk-toggleable__label {background-color: #d4ebff;}#sk-container-id-1 input.sk-hidden--visually {border: 0;clip: rect(1px 1px 1px 1px);clip: rect(1px, 1px, 1px, 1px);height: 1px;margin: -1px;overflow: hidden;padding: 0;position: absolute;width: 1px;}#sk-container-id-1 div.sk-estimator {font-family: monospace;background-color: #f0f8ff;border: 1px dotted black;border-radius: 0.25em;box-sizing: border-box;margin-bottom: 0.5em;}#sk-container-id-1 div.sk-estimator:hover {background-color: #d4ebff;}#sk-container-id-1 div.sk-parallel-item::after {content: \"\";width: 100%;border-bottom: 1px solid gray;flex-grow: 1;}#sk-container-id-1 div.sk-label:hover label.sk-toggleable__label {background-color: #d4ebff;}#sk-container-id-1 div.sk-serial::before {content: \"\";position: absolute;border-left: 1px solid gray;box-sizing: border-box;top: 0;bottom: 0;left: 50%;z-index: 0;}#sk-container-id-1 div.sk-serial {display: flex;flex-direction: column;align-items: center;background-color: white;padding-right: 0.2em;padding-left: 0.2em;position: relative;}#sk-container-id-1 div.sk-item {position: relative;z-index: 1;}#sk-container-id-1 div.sk-parallel {display: flex;align-items: stretch;justify-content: center;background-color: white;position: relative;}#sk-container-id-1 div.sk-item::before, #sk-container-id-1 div.sk-parallel-item::before {content: \"\";position: absolute;border-left: 1px solid gray;box-sizing: border-box;top: 0;bottom: 0;left: 50%;z-index: -1;}#sk-container-id-1 div.sk-parallel-item {display: flex;flex-direction: column;z-index: 1;position: relative;background-color: white;}#sk-container-id-1 div.sk-parallel-item:first-child::after {align-self: flex-end;width: 50%;}#sk-container-id-1 div.sk-parallel-item:last-child::after {align-self: flex-start;width: 50%;}#sk-container-id-1 div.sk-parallel-item:only-child::after {width: 0;}#sk-container-id-1 div.sk-dashed-wrapped {border: 1px dashed gray;margin: 0 0.4em 0.5em 0.4em;box-sizing: border-box;padding-bottom: 0.4em;background-color: white;}#sk-container-id-1 div.sk-label label {font-family: monospace;font-weight: bold;display: inline-block;line-height: 1.2em;}#sk-container-id-1 div.sk-label-container {text-align: center;}#sk-container-id-1 div.sk-container {/* jupyter's `normalize.less` sets `[hidden] { display: none; }` but bootstrap.min.css set `[hidden] { display: none !important; }` so we also need the `!important` here to be able to override the default hidden behavior on the sphinx rendered scikit-learn.org. See: https://github.com/scikit-learn/scikit-learn/issues/21755 */display: inline-block !important;position: relative;}#sk-container-id-1 div.sk-text-repr-fallback {display: none;}</style><div id=\"sk-container-id-1\" class=\"sk-top-container\"><div class=\"sk-text-repr-fallback\"><pre>XGBRegressor(base_score=None, booster=None, callbacks=None,\n",
       "             colsample_bylevel=None, colsample_bynode=None,\n",
       "             colsample_bytree=None, device=None, early_stopping_rounds=None,\n",
       "             enable_categorical=False, eval_metric=None, feature_types=None,\n",
       "             gamma=None, grow_policy=None, importance_type=None,\n",
       "             interaction_constraints=None, learning_rate=0.1, max_bin=None,\n",
       "             max_cat_threshold=None, max_cat_to_onehot=None,\n",
       "             max_delta_step=None, max_depth=3, max_leaves=None,\n",
       "             min_child_weight=None, missing=nan, monotone_constraints=None,\n",
       "             multi_strategy=None, n_estimators=40, n_jobs=None,\n",
       "             num_parallel_tree=None, random_state=None, ...)</pre><b>In a Jupyter environment, please rerun this cell to show the HTML representation or trust the notebook. <br />On GitHub, the HTML representation is unable to render, please try loading this page with nbviewer.org.</b></div><div class=\"sk-container\" hidden><div class=\"sk-item\"><div class=\"sk-estimator sk-toggleable\"><input class=\"sk-toggleable__control sk-hidden--visually\" id=\"sk-estimator-id-1\" type=\"checkbox\" checked><label for=\"sk-estimator-id-1\" class=\"sk-toggleable__label sk-toggleable__label-arrow\">XGBRegressor</label><div class=\"sk-toggleable__content\"><pre>XGBRegressor(base_score=None, booster=None, callbacks=None,\n",
       "             colsample_bylevel=None, colsample_bynode=None,\n",
       "             colsample_bytree=None, device=None, early_stopping_rounds=None,\n",
       "             enable_categorical=False, eval_metric=None, feature_types=None,\n",
       "             gamma=None, grow_policy=None, importance_type=None,\n",
       "             interaction_constraints=None, learning_rate=0.1, max_bin=None,\n",
       "             max_cat_threshold=None, max_cat_to_onehot=None,\n",
       "             max_delta_step=None, max_depth=3, max_leaves=None,\n",
       "             min_child_weight=None, missing=nan, monotone_constraints=None,\n",
       "             multi_strategy=None, n_estimators=40, n_jobs=None,\n",
       "             num_parallel_tree=None, random_state=None, ...)</pre></div></div></div></div></div>"
      ],
      "text/plain": [
       "XGBRegressor(base_score=None, booster=None, callbacks=None,\n",
       "             colsample_bylevel=None, colsample_bynode=None,\n",
       "             colsample_bytree=None, device=None, early_stopping_rounds=None,\n",
       "             enable_categorical=False, eval_metric=None, feature_types=None,\n",
       "             gamma=None, grow_policy=None, importance_type=None,\n",
       "             interaction_constraints=None, learning_rate=0.1, max_bin=None,\n",
       "             max_cat_threshold=None, max_cat_to_onehot=None,\n",
       "             max_delta_step=None, max_depth=3, max_leaves=None,\n",
       "             min_child_weight=None, missing=nan, monotone_constraints=None,\n",
       "             multi_strategy=None, n_estimators=40, n_jobs=None,\n",
       "             num_parallel_tree=None, random_state=None, ...)"
      ]
     },
     "execution_count": 10,
     "metadata": {},
     "output_type": "execute_result"
    }
   ],
   "source": [
    "model_xgb = xgb.XGBRegressor(objective='reg:squarederror', \n",
    "                             max_depth=3, \n",
    "                             learning_rate=0.1, \n",
    "                             n_estimators=40, \n",
    "                            )\n",
    "\n",
    "\n",
    "model_xgb.fit(X_train_xgb, y_train_xgb)"
   ]
  },
  {
   "cell_type": "markdown",
   "metadata": {},
   "source": [
    "### Dự đoán trên tập train (XGB)"
   ]
  },
  {
   "cell_type": "code",
   "execution_count": 11,
   "metadata": {},
   "outputs": [],
   "source": [
    "y_train_pred_xgb = model_xgb.predict(X_train_xgb)\n",
    "y_train_pred_xgb = scaler.inverse_transform(y_train_pred_xgb.reshape(-1, 1))\n",
    "y_train_xgb = scaler.inverse_transform(y_train_xgb)"
   ]
  },
  {
   "cell_type": "code",
   "execution_count": 12,
   "metadata": {},
   "outputs": [
    {
     "name": "stdout",
     "output_type": "stream",
     "text": [
      "RMSE (XGB):  0.38512560134628315\n",
      "R-squared (XGB):  0.9926553792304451\n"
     ]
    }
   ],
   "source": [
    "rmse_train_xgb = np.sqrt(mean_squared_error(y_train_xgb, y_train_pred_xgb))\n",
    "r2_train_xgb = r2_score(y_train_xgb, y_train_pred_xgb)\n",
    "\n",
    "print(\"RMSE (XGB): \", rmse_train_xgb)\n",
    "print(\"R-squared (XGB): \", r2_train_xgb)"
   ]
  },
  {
   "cell_type": "markdown",
   "metadata": {},
   "source": [
    "### Dự đoán trên tập test (XGB)"
   ]
  },
  {
   "cell_type": "code",
   "execution_count": 13,
   "metadata": {},
   "outputs": [],
   "source": [
    "y_test_pred_xgb = model_xgb.predict(X_test_xgb)\n",
    "y_test_pred_xgb = scaler.inverse_transform(y_test_pred_xgb.reshape(-1, 1))\n",
    "y_test_xgb = scaler.inverse_transform(y_test_xgb)"
   ]
  },
  {
   "cell_type": "code",
   "execution_count": 14,
   "metadata": {},
   "outputs": [
    {
     "name": "stdout",
     "output_type": "stream",
     "text": [
      "RMSE (XGB):  0.6032573069322564\n",
      "R-squared (XGB):  0.7696476421292207\n"
     ]
    }
   ],
   "source": [
    "# Evaluate the model\n",
    "rmse_test_xgb = np.sqrt(mean_squared_error(y_test_xgb, y_test_pred_xgb))\n",
    "r2_test_xgb = r2_score(y_test_xgb, y_test_pred_xgb)\n",
    "\n",
    "print(\"RMSE (XGB): \", rmse_test_xgb)\n",
    "print(\"R-squared (XGB): \", r2_test_xgb)"
   ]
  },
  {
   "cell_type": "markdown",
   "metadata": {},
   "source": [
    "## Dự đoán giá xăng 30 ngày tiếp theo (XGB)"
   ]
  },
  {
   "cell_type": "code",
   "execution_count": 15,
   "metadata": {},
   "outputs": [
    {
     "ename": "ValueError",
     "evalue": "Feature shape mismatch, expected: 12, got 30",
     "output_type": "error",
     "traceback": [
      "\u001b[1;31m---------------------------------------------------------------------------\u001b[0m",
      "\u001b[1;31mValueError\u001b[0m                                Traceback (most recent call last)",
      "Cell \u001b[1;32mIn[15], line 12\u001b[0m\n\u001b[0;32m     10\u001b[0m predicted_prices_xgb \u001b[38;5;241m=\u001b[39m []\n\u001b[0;32m     11\u001b[0m \u001b[38;5;28;01mfor\u001b[39;00m day \u001b[38;5;129;01min\u001b[39;00m \u001b[38;5;28mrange\u001b[39m(days):\n\u001b[1;32m---> 12\u001b[0m     next_prediction \u001b[38;5;241m=\u001b[39m \u001b[43mmodel_xgb\u001b[49m\u001b[38;5;241;43m.\u001b[39;49m\u001b[43mpredict\u001b[49m\u001b[43m(\u001b[49m\u001b[43mlast_data\u001b[49m\u001b[43m)\u001b[49m\n\u001b[0;32m     13\u001b[0m     last_data \u001b[38;5;241m=\u001b[39m np\u001b[38;5;241m.\u001b[39mappend(last_data, next_prediction)\u001b[38;5;241m.\u001b[39mreshape(\u001b[38;5;241m1\u001b[39m, \u001b[38;5;241m-\u001b[39m\u001b[38;5;241m1\u001b[39m)[:, \u001b[38;5;241m1\u001b[39m:]\n\u001b[0;32m     14\u001b[0m     predicted_price \u001b[38;5;241m=\u001b[39m scaler\u001b[38;5;241m.\u001b[39minverse_transform(next_prediction\u001b[38;5;241m.\u001b[39mreshape(\u001b[38;5;241m-\u001b[39m\u001b[38;5;241m1\u001b[39m, \u001b[38;5;241m1\u001b[39m))\n",
      "File \u001b[1;32m~\\AppData\\Local\\Programs\\Python\\Python310\\lib\\site-packages\\xgboost\\sklearn.py:1164\u001b[0m, in \u001b[0;36mXGBModel.predict\u001b[1;34m(self, X, output_margin, validate_features, base_margin, iteration_range)\u001b[0m\n\u001b[0;32m   1162\u001b[0m \u001b[38;5;28;01mif\u001b[39;00m \u001b[38;5;28mself\u001b[39m\u001b[38;5;241m.\u001b[39m_can_use_inplace_predict():\n\u001b[0;32m   1163\u001b[0m     \u001b[38;5;28;01mtry\u001b[39;00m:\n\u001b[1;32m-> 1164\u001b[0m         predts \u001b[38;5;241m=\u001b[39m \u001b[38;5;28;43mself\u001b[39;49m\u001b[38;5;241;43m.\u001b[39;49m\u001b[43mget_booster\u001b[49m\u001b[43m(\u001b[49m\u001b[43m)\u001b[49m\u001b[38;5;241;43m.\u001b[39;49m\u001b[43minplace_predict\u001b[49m\u001b[43m(\u001b[49m\n\u001b[0;32m   1165\u001b[0m \u001b[43m            \u001b[49m\u001b[43mdata\u001b[49m\u001b[38;5;241;43m=\u001b[39;49m\u001b[43mX\u001b[49m\u001b[43m,\u001b[49m\n\u001b[0;32m   1166\u001b[0m \u001b[43m            \u001b[49m\u001b[43miteration_range\u001b[49m\u001b[38;5;241;43m=\u001b[39;49m\u001b[43miteration_range\u001b[49m\u001b[43m,\u001b[49m\n\u001b[0;32m   1167\u001b[0m \u001b[43m            \u001b[49m\u001b[43mpredict_type\u001b[49m\u001b[38;5;241;43m=\u001b[39;49m\u001b[38;5;124;43m\"\u001b[39;49m\u001b[38;5;124;43mmargin\u001b[39;49m\u001b[38;5;124;43m\"\u001b[39;49m\u001b[43m \u001b[49m\u001b[38;5;28;43;01mif\u001b[39;49;00m\u001b[43m \u001b[49m\u001b[43moutput_margin\u001b[49m\u001b[43m \u001b[49m\u001b[38;5;28;43;01melse\u001b[39;49;00m\u001b[43m \u001b[49m\u001b[38;5;124;43m\"\u001b[39;49m\u001b[38;5;124;43mvalue\u001b[39;49m\u001b[38;5;124;43m\"\u001b[39;49m\u001b[43m,\u001b[49m\n\u001b[0;32m   1168\u001b[0m \u001b[43m            \u001b[49m\u001b[43mmissing\u001b[49m\u001b[38;5;241;43m=\u001b[39;49m\u001b[38;5;28;43mself\u001b[39;49m\u001b[38;5;241;43m.\u001b[39;49m\u001b[43mmissing\u001b[49m\u001b[43m,\u001b[49m\n\u001b[0;32m   1169\u001b[0m \u001b[43m            \u001b[49m\u001b[43mbase_margin\u001b[49m\u001b[38;5;241;43m=\u001b[39;49m\u001b[43mbase_margin\u001b[49m\u001b[43m,\u001b[49m\n\u001b[0;32m   1170\u001b[0m \u001b[43m            \u001b[49m\u001b[43mvalidate_features\u001b[49m\u001b[38;5;241;43m=\u001b[39;49m\u001b[43mvalidate_features\u001b[49m\u001b[43m,\u001b[49m\n\u001b[0;32m   1171\u001b[0m \u001b[43m        \u001b[49m\u001b[43m)\u001b[49m\n\u001b[0;32m   1172\u001b[0m         \u001b[38;5;28;01mif\u001b[39;00m _is_cupy_array(predts):\n\u001b[0;32m   1173\u001b[0m             \u001b[38;5;28;01mimport\u001b[39;00m \u001b[38;5;21;01mcupy\u001b[39;00m  \u001b[38;5;66;03m# pylint: disable=import-error\u001b[39;00m\n",
      "File \u001b[1;32m~\\AppData\\Local\\Programs\\Python\\Python310\\lib\\site-packages\\xgboost\\core.py:2427\u001b[0m, in \u001b[0;36mBooster.inplace_predict\u001b[1;34m(self, data, iteration_range, predict_type, missing, validate_features, base_margin, strict_shape)\u001b[0m\n\u001b[0;32m   2423\u001b[0m         \u001b[38;5;28;01mraise\u001b[39;00m \u001b[38;5;167;01mTypeError\u001b[39;00m(\n\u001b[0;32m   2424\u001b[0m             \u001b[38;5;124m\"\u001b[39m\u001b[38;5;124m`shape` attribute is required when `validate_features` is True.\u001b[39m\u001b[38;5;124m\"\u001b[39m\n\u001b[0;32m   2425\u001b[0m         )\n\u001b[0;32m   2426\u001b[0m     \u001b[38;5;28;01mif\u001b[39;00m \u001b[38;5;28mlen\u001b[39m(data\u001b[38;5;241m.\u001b[39mshape) \u001b[38;5;241m!=\u001b[39m \u001b[38;5;241m1\u001b[39m \u001b[38;5;129;01mand\u001b[39;00m \u001b[38;5;28mself\u001b[39m\u001b[38;5;241m.\u001b[39mnum_features() \u001b[38;5;241m!=\u001b[39m data\u001b[38;5;241m.\u001b[39mshape[\u001b[38;5;241m1\u001b[39m]:\n\u001b[1;32m-> 2427\u001b[0m         \u001b[38;5;28;01mraise\u001b[39;00m \u001b[38;5;167;01mValueError\u001b[39;00m(\n\u001b[0;32m   2428\u001b[0m             \u001b[38;5;124mf\u001b[39m\u001b[38;5;124m\"\u001b[39m\u001b[38;5;124mFeature shape mismatch, expected: \u001b[39m\u001b[38;5;132;01m{\u001b[39;00m\u001b[38;5;28mself\u001b[39m\u001b[38;5;241m.\u001b[39mnum_features()\u001b[38;5;132;01m}\u001b[39;00m\u001b[38;5;124m, \u001b[39m\u001b[38;5;124m\"\u001b[39m\n\u001b[0;32m   2429\u001b[0m             \u001b[38;5;124mf\u001b[39m\u001b[38;5;124m\"\u001b[39m\u001b[38;5;124mgot \u001b[39m\u001b[38;5;132;01m{\u001b[39;00mdata\u001b[38;5;241m.\u001b[39mshape[\u001b[38;5;241m1\u001b[39m]\u001b[38;5;132;01m}\u001b[39;00m\u001b[38;5;124m\"\u001b[39m\n\u001b[0;32m   2430\u001b[0m         )\n\u001b[0;32m   2432\u001b[0m \u001b[38;5;28;01mif\u001b[39;00m _is_np_array_like(data):\n\u001b[0;32m   2433\u001b[0m     \u001b[38;5;28;01mfrom\u001b[39;00m \u001b[38;5;21;01m.\u001b[39;00m\u001b[38;5;21;01mdata\u001b[39;00m \u001b[38;5;28;01mimport\u001b[39;00m _ensure_np_dtype\n",
      "\u001b[1;31mValueError\u001b[0m: Feature shape mismatch, expected: 12, got 30"
     ]
    }
   ],
   "source": [
    "days = 6\n",
    "timesteps = look_back + 1\n",
    "df_gasolinePrices_pre = df_gasolinePrices.copy()\n",
    "gasolinePrices_scaled = scaler.transform(df_gasolinePrices_pre)\n",
    "\n",
    "# Lấy dữ liệu cuối cùng từ tập dữ liệu\n",
    "last_data = gasolinePrices_scaled[-timesteps:]\n",
    "last_data = last_data.reshape(1, -1)[:, -(timesteps-1):]\n",
    "\n",
    "predicted_prices_xgb = []\n",
    "for day in range(days):\n",
    "    next_prediction = model_xgb.predict(last_data)\n",
    "    last_data = np.append(last_data, next_prediction).reshape(1, -1)[:, 1:]\n",
    "    predicted_price = scaler.inverse_transform(next_prediction.reshape(-1, 1))\n",
    "    predicted_prices_xgb.append(predicted_price[0, 0])\n",
    "    \n",
    "last_date = df_gasolinePrices_pre.index[-1]\n",
    "future_dates = pd.date_range(start=last_date + pd.DateOffset(days=3), periods=days, freq='5D')\n",
    "\n",
    "predicted_df_xgb = pd.DataFrame(index=future_dates, columns=['RON 95-III'])\n",
    "\n",
    "predicted_df_xgb['RON 95-III'] = predicted_prices_xgb\n",
    "\n",
    "df_gasolinePrices_pre = pd.concat([df_gasolinePrices_pre, predicted_df_xgb], axis=0)"
   ]
  },
  {
   "cell_type": "code",
   "execution_count": null,
   "metadata": {},
   "outputs": [],
   "source": [
    "import pandas as pd\n",
    "\n",
    "last_date = '11/12/2023'\n",
    "future_dates = pd.date_range(start=last_date , periods=days, freq='5D')"
   ]
  },
  {
   "cell_type": "code",
   "execution_count": null,
   "metadata": {},
   "outputs": [],
   "source": [
    "plt.figure(figsize=(12, 6))\n",
    "\n",
    "plt.plot(predicted_df_xgb.index, predicted_df_xgb['RON 95-III'], label='Ground Truth', color='blue')\n",
    "\n",
    "plt.title('Ground Truth vs Predicted Gasoline Prices')\n",
    "plt.xlabel('Time')\n",
    "plt.ylabel('Gasoline Price RON 95-III')\n",
    "plt.legend()\n",
    "plt.grid(True)\n",
    "\n",
    "# Hiển thị biểu đồ\n",
    "plt.show()"
   ]
  },
  {
   "cell_type": "code",
   "execution_count": null,
   "metadata": {},
   "outputs": [],
   "source": [
    "plt.figure(figsize=(12, 6))\n",
    "\n",
    "plt.plot(df_gasolinePrices_pre.index, df_gasolinePrices_pre['RON 95-III'], label='Ground Truth', color='blue')\n",
    "plt.plot(predicted_df_xgb.index, predicted_df_xgb['RON 95-III'], label='Predicted', color='orange')\n",
    "\n",
    "plt.title('Ground Truth vs Predicted Gasoline Prices')\n",
    "plt.xlabel('Time')\n",
    "plt.ylabel('Gasoline Price RON 95-III')\n",
    "plt.legend()\n",
    "plt.grid(True)\n",
    "\n",
    "# Hiển thị biểu đồ\n",
    "plt.show()"
   ]
  },
  {
   "cell_type": "markdown",
   "metadata": {},
   "source": [
    "# SVM"
   ]
  },
  {
   "cell_type": "code",
   "execution_count": null,
   "metadata": {},
   "outputs": [],
   "source": [
    "X_train_svm, y_train_svm = X_train, y_train\n",
    "X_test_svm, y_test_svm = X_test, y_test"
   ]
  },
  {
   "cell_type": "markdown",
   "metadata": {},
   "source": [
    "### Xây dựng model (SVM)"
   ]
  },
  {
   "cell_type": "code",
   "execution_count": null,
   "metadata": {},
   "outputs": [],
   "source": [
    "model_svm = SVR(C=5, kernel='rbf', gamma='auto', epsilon=0.01)\n",
    "\n",
    "model_svm.fit(X_train_svm, y_train_svm)"
   ]
  },
  {
   "cell_type": "markdown",
   "metadata": {},
   "source": [
    "### Dự đoán trên tập train (SVM)"
   ]
  },
  {
   "cell_type": "code",
   "execution_count": null,
   "metadata": {},
   "outputs": [],
   "source": [
    "y_train_pred_svm = model_svm.predict(X_train_svm)\n",
    "y_train_pred_svm = scaler.inverse_transform(y_train_pred_svm.reshape(-1, 1))\n",
    "y_train_svm = scaler.inverse_transform(y_train_svm)"
   ]
  },
  {
   "cell_type": "code",
   "execution_count": null,
   "metadata": {},
   "outputs": [],
   "source": [
    "rmse_train_svm = np.sqrt(mean_squared_error(y_train_svm, y_train_pred_svm))\n",
    "r2_train_svm = r2_score(y_train_svm, y_train_pred_svm)\n",
    "\n",
    "print(\"RMSE (SVM): \", rmse_train_svm)\n",
    "print(\"R-squared (SVM): \", r2_train_svm)"
   ]
  },
  {
   "cell_type": "markdown",
   "metadata": {},
   "source": [
    "### Dự đoán trên tập test (SVM)"
   ]
  },
  {
   "cell_type": "code",
   "execution_count": null,
   "metadata": {},
   "outputs": [],
   "source": [
    "y_test_pred_svm = model_svm.predict(X_test_svm)\n",
    "y_test_pred_svm = scaler.inverse_transform(y_test_pred_svm.reshape(-1, 1))\n",
    "y_test_svm = scaler.inverse_transform(y_test_svm)"
   ]
  },
  {
   "cell_type": "code",
   "execution_count": null,
   "metadata": {},
   "outputs": [],
   "source": [
    "rmse_test_svm = np.sqrt(mean_squared_error(y_test_svm, y_test_pred_svm))\n",
    "r2_test_svm = r2_score(y_test_svm, y_test_pred_svm)\n",
    "\n",
    "print(\"RMSE (SVM): \", rmse_test_svm)\n",
    "print(\"R-squared (SVM): \", r2_test_svm)"
   ]
  },
  {
   "cell_type": "markdown",
   "metadata": {},
   "source": [
    "## Dự đoán giá xăng trong 30 ngày tiếp theo (SVM)"
   ]
  },
  {
   "cell_type": "code",
   "execution_count": null,
   "metadata": {},
   "outputs": [],
   "source": [
    "days = 6\n",
    "timesteps = look_back + 1\n",
    "df_gasolinePrices_pre = df_gasolinePrices.copy()\n",
    "gasolinePrices_scaled = scaler.transform(df_gasolinePrices_pre)\n",
    "\n",
    "# Lấy dữ liệu cuối cùng từ tập dữ liệu\n",
    "last_data = gasolinePrices_scaled[-timesteps:]\n",
    "last_data = last_data.reshape(1, -1)[:, -(timesteps-1):]\n",
    "\n",
    "predicted_prices_svm = []\n",
    "for day in range(days):\n",
    "    next_prediction = model_svm.predict(last_data)\n",
    "    last_data = np.append(last_data, next_prediction).reshape(1, -1)[:, 1:]\n",
    "    predicted_price = scaler.inverse_transform(next_prediction.reshape(-1, 1))\n",
    "    predicted_prices_svm.append(predicted_price[0, 0])\n",
    "    \n",
    "last_date = df_gasolinePrices_pre.index[-1]\n",
    "future_dates = pd.date_range(start=last_date + pd.DateOffset(days=3), periods=days, freq='5D')\n",
    "\n",
    "predicted_df_svm = pd.DataFrame(index=future_dates, columns=['RON 95-III'])\n",
    "\n",
    "predicted_df_svm['RON 95-III'] = predicted_prices_svm\n",
    "\n",
    "df_gasolinePrices_pre = pd.concat([df_gasolinePrices_pre, predicted_df_svm], axis=0)"
   ]
  },
  {
   "cell_type": "code",
   "execution_count": null,
   "metadata": {},
   "outputs": [],
   "source": [
    "import pandas as pd\n",
    "\n",
    "last_date = '11/12/2023'\n",
    "future_dates = pd.date_range(start=last_date , periods=days, freq='5D')"
   ]
  },
  {
   "cell_type": "code",
   "execution_count": null,
   "metadata": {},
   "outputs": [],
   "source": [
    "plt.figure(figsize=(12, 6))\n",
    "\n",
    "plt.plot(predicted_df_svm.index, predicted_df_svm['RON 95-III'], label='Ground Truth', color='blue')\n",
    "\n",
    "plt.title('Ground Truth vs Predicted Gasoline Prices')\n",
    "plt.xlabel('Time')\n",
    "plt.ylabel('Gasoline Price RON 95-III')\n",
    "plt.legend()\n",
    "plt.grid(True)\n",
    "\n",
    "# Hiển thị biểu đồ\n",
    "plt.show()"
   ]
  },
  {
   "cell_type": "code",
   "execution_count": null,
   "metadata": {},
   "outputs": [],
   "source": [
    "plt.figure(figsize=(12, 6))\n",
    "\n",
    "plt.plot(df_gasolinePrices_pre.index, df_gasolinePrices_pre['RON 95-III'], label='Ground Truth', color='blue')\n",
    "plt.plot(predicted_df_svm.index, predicted_df_svm['RON 95-III'], label='Predicted', color='orange')\n",
    "\n",
    "plt.title('Ground Truth vs Predicted Gasoline Prices')\n",
    "plt.xlabel('Time')\n",
    "plt.ylabel('Gasoline Price RON 95-III')\n",
    "plt.legend()\n",
    "plt.grid(True)\n",
    "\n",
    "# Hiển thị biểu đồ\n",
    "plt.show()"
   ]
  },
  {
   "cell_type": "markdown",
   "metadata": {},
   "source": [
    "# Random Forest"
   ]
  },
  {
   "cell_type": "code",
   "execution_count": null,
   "metadata": {},
   "outputs": [],
   "source": [
    "X_train_rf, y_train_rf = X_train, y_train\n",
    "X_test_rf, y_test_rf = X_test, y_test"
   ]
  },
  {
   "cell_type": "markdown",
   "metadata": {},
   "source": [
    "### Xây dựng model (RF)"
   ]
  },
  {
   "cell_type": "code",
   "execution_count": null,
   "metadata": {},
   "outputs": [],
   "source": [
    "# Tạo và huấn luyện mô hình Random Forest\n",
    "model_rf = RandomForestRegressor(n_estimators=100, max_depth=10, min_samples_split=2, min_samples_leaf=1 )\n",
    "\n",
    "model_rf.fit(X_train_rf, y_train_rf)"
   ]
  },
  {
   "cell_type": "markdown",
   "metadata": {},
   "source": [
    "### Dự đoán trên tập train (RF)"
   ]
  },
  {
   "cell_type": "code",
   "execution_count": null,
   "metadata": {},
   "outputs": [],
   "source": [
    "y_train_pred_rf = model_rf.predict(X_train_rf)\n",
    "\n",
    "y_train_pred_rf = scaler.inverse_transform(y_train_pred_rf.reshape(-1, 1))\n",
    "y_train_rf = scaler.inverse_transform(y_train_rf)"
   ]
  },
  {
   "cell_type": "code",
   "execution_count": null,
   "metadata": {},
   "outputs": [],
   "source": [
    "rmse_train_rf = np.sqrt(mean_squared_error(y_train_rf, y_train_pred_rf))\n",
    "r2_train_rf = r2_score(y_train_rf, y_train_pred_rf)\n",
    "\n",
    "print(\"RMSE (XGB): \", rmse_train_rf)\n",
    "print(\"R-squared (XGB): \", r2_train_rf)"
   ]
  },
  {
   "cell_type": "markdown",
   "metadata": {},
   "source": [
    "### Dự đoán trên tập test (RF)"
   ]
  },
  {
   "cell_type": "code",
   "execution_count": null,
   "metadata": {},
   "outputs": [],
   "source": [
    "y_test_pred_rf = model_rf.predict(X_test_rf)\n",
    "\n",
    "y_test_pred_rf = scaler.inverse_transform(y_test_pred_rf.reshape(-1, 1))\n",
    "y_test_rf = scaler.inverse_transform(y_test_rf)"
   ]
  },
  {
   "cell_type": "code",
   "execution_count": null,
   "metadata": {},
   "outputs": [],
   "source": [
    "rmse_test_rf = np.sqrt(mean_squared_error(y_test_rf, y_test_pred_rf))\n",
    "r2_test_rf = r2_score(y_test_rf, y_test_pred_rf)\n",
    "\n",
    "print(\"RMSE (XGB): \", rmse_test_rf)\n",
    "print(\"R-squared (XGB): \", r2_test_rf)"
   ]
  },
  {
   "cell_type": "markdown",
   "metadata": {},
   "source": [
    "## Dự đoán giá"
   ]
  },
  {
   "cell_type": "code",
   "execution_count": null,
   "metadata": {},
   "outputs": [],
   "source": [
    "days = 6\n",
    "timesteps = look_back + 1\n",
    "df_gasolinePrices_pre = df_gasolinePrices.copy()\n",
    "gasolinePrices_scaled = scaler.transform(df_gasolinePrices_pre)\n",
    "\n",
    "# Lấy dữ liệu cuối cùng từ tập dữ liệu\n",
    "last_data = gasolinePrices_scaled[-timesteps:]\n",
    "last_data = last_data.reshape(1, -1)[:, -(timesteps-1):]\n",
    "\n",
    "predicted_prices_rf = []\n",
    "for day in range(days):\n",
    "    next_prediction = model_rf.predict(last_data)\n",
    "    last_data = np.append(last_data, next_prediction).reshape(1, -1)[:, 1:]\n",
    "    predicted_price = scaler.inverse_transform(next_prediction.reshape(-1, 1))\n",
    "    predicted_prices_rf.append(predicted_price[0, 0])\n",
    "    \n",
    "last_date = df_gasolinePrices_pre.index[-1]\n",
    "future_dates = pd.date_range(start=last_date + pd.DateOffset(days=1), periods=days, freq='5D')\n",
    "\n",
    "predicted_df_rf = pd.DataFrame(index=future_dates, columns=['RON 95-III'])\n",
    "\n",
    "predicted_df_rf['RON 95-III'] = predicted_prices_rf\n",
    "\n",
    "df_gasolinePrices_pre = pd.concat([df_gasolinePrices_pre, predicted_df_rf], axis=0)"
   ]
  },
  {
   "cell_type": "code",
   "execution_count": null,
   "metadata": {},
   "outputs": [],
   "source": [
    "import pandas as pd\n",
    "\n",
    "last_date = '11/12/2023'\n",
    "future_dates = pd.date_range(start=last_date, periods=10, freq='5D')\n",
    "future_dates"
   ]
  },
  {
   "cell_type": "code",
   "execution_count": null,
   "metadata": {},
   "outputs": [],
   "source": [
    "plt.figure(figsize=(12, 6))\n",
    "\n",
    "plt.plot(predicted_df_rf.index, predicted_df_rf['RON 95-III'], label='Ground Truth', color='blue')\n",
    "\n",
    "plt.title('Ground Truth vs Predicted Gasoline Prices')\n",
    "plt.xlabel('Time')\n",
    "plt.ylabel('Gasoline Price RON 95-III')\n",
    "plt.legend()\n",
    "plt.grid(True)\n",
    "\n",
    "# Hiển thị biểu đồ\n",
    "plt.show()"
   ]
  },
  {
   "cell_type": "code",
   "execution_count": null,
   "metadata": {},
   "outputs": [],
   "source": [
    "plt.figure(figsize=(12, 6))\n",
    "\n",
    "plt.plot(df_gasolinePrices_pre.index, df_gasolinePrices_pre['RON 95-III'], label='Ground Truth', color='blue')\n",
    "plt.plot(predicted_df_rf.index, predicted_df_rf['RON 95-III'], label='Predicted', color='orange')\n",
    "\n",
    "plt.title('Ground Truth vs Predicted Gasoline Prices')\n",
    "plt.xlabel('Time')\n",
    "plt.ylabel('Gasoline Price RON 95-III')\n",
    "plt.legend()\n",
    "plt.grid(True)\n",
    "\n",
    "# Hiển thị biểu đồ\n",
    "plt.show()"
   ]
  }
 ],
 "metadata": {
  "kernelspec": {
   "display_name": "Python 3 (ipykernel)",
   "language": "python",
   "name": "python3"
  },
  "language_info": {
   "codemirror_mode": {
    "name": "ipython",
    "version": 3
   },
   "file_extension": ".py",
   "mimetype": "text/x-python",
   "name": "python",
   "nbconvert_exporter": "python",
   "pygments_lexer": "ipython3",
   "version": "3.10.10"
  }
 },
 "nbformat": 4,
 "nbformat_minor": 2
}
